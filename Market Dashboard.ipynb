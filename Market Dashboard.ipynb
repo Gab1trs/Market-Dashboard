{
 "cells": [
  {
   "cell_type": "code",
   "execution_count": 2,
   "id": "450631a0",
   "metadata": {},
   "outputs": [
    {
     "ename": "NameError",
     "evalue": "name 'data_download' is not defined",
     "output_type": "error",
     "traceback": [
      "\u001b[31m---------------------------------------------------------------------------\u001b[39m",
      "\u001b[31mNameError\u001b[39m                                 Traceback (most recent call last)",
      "\u001b[36mCell\u001b[39m\u001b[36m \u001b[39m\u001b[32mIn[2]\u001b[39m\u001b[32m, line 12\u001b[39m\n\u001b[32m      9\u001b[39m startdate=\u001b[33m\"\u001b[39m\u001b[33m2019-09-19\u001b[39m\u001b[33m\"\u001b[39m\n\u001b[32m     10\u001b[39m enddate=dt.datetime.today().strftime(\u001b[33m\"\u001b[39m\u001b[33m%\u001b[39m\u001b[33mY-\u001b[39m\u001b[33m%\u001b[39m\u001b[33mm-\u001b[39m\u001b[38;5;132;01m%d\u001b[39;00m\u001b[33m\"\u001b[39m)\n\u001b[32m---> \u001b[39m\u001b[32m12\u001b[39m spy = \u001b[43mdata_download\u001b[49m(\u001b[33m\"\u001b[39m\u001b[33mSPY\u001b[39m\u001b[33m\"\u001b[39m, startdate, enddate)\n\u001b[32m     13\u001b[39m usd= data_download(\u001b[33m\"\u001b[39m\u001b[33mDX-Y.NYB\u001b[39m\u001b[33m\"\u001b[39m, startdate, enddate)\n\u001b[32m     14\u001b[39m gold = data_download(\u001b[33m\"\u001b[39m\u001b[33mGC=F\u001b[39m\u001b[33m\"\u001b[39m, startdate, enddate)\n",
      "\u001b[31mNameError\u001b[39m: name 'data_download' is not defined"
     ]
    }
   ],
   "source": [
    "# Dashboard with equity (SPY), forex (USD), commodities (Gold, crude oil, wheat), bonds (Inflation-linked bonds).\n",
    "# Data about growth, inflation, volatility, and yield.\n",
    "# Data goes back as far as possible, with widget slider to choose time frame.\n",
    "\n",
    "\n",
    "import datetime as dt\n",
    "from helper import *\n",
    "\n",
    "startdate=\"2019-09-19\"\n",
    "enddate=dt.datetime.today().strftime(\"%Y-%m-%d\")\n",
    "\n",
    "spy = data_download(\"SPY\", startdate, enddate)\n",
    "usd= data_download(\"DX-Y.NYB\", startdate, enddate)\n",
    "gold = data_download(\"GC=F\", startdate, enddate)\n",
    "crude_oil = data_download(\"WTI\", startdate, enddate)\n",
    "wheat = data_download(\"ZW=F\", startdate, enddate)\n",
    "bond = data_download(\"^TNX\", startdate, enddate)\n",
    "inflation_bond = data_download(\"TIP\", startdate, enddate)\n",
    "vix = data_download(\"^VIX\", startdate, enddate)\n",
    "bund = data_download(\"^DE10Y\", startdate, enddate)\n",
    "\n",
    "assets_list = [spy, usd, gold, crude_oil, wheat, bond, inflation_bond, vix, bund]\n",
    "assets_list = [fill_missing_values(asset) for asset in assets_list]\n",
    "spy, usd, gold, crude_oil, wheat, bond,inflation_bond,vix, bund = assets_list\n",
    "\n",
    "for asset in assets_list:\n",
    "    check_na(asset)\n",
    "\n",
    "\n",
    "\n",
    "# Concatenate all Series into one DataFrame\n",
    "# assets_df = pd.concat([spy, usd, gold, crude_oil, wheat, bond], axis=1)\n",
    "# assets_df.columns = ['SPY', 'USD', 'Gold', 'Crude Oil', 'Wheat', 'Bond']\n",
    "\n",
    "# # Save to CSV\n",
    "# assets_df.to_csv('all_assets.csv')\n",
    "\n",
    "# # Plot the data for each asset class\n",
    "# assets_df.plot(figsize=(12, 7))\n",
    "# plt.title(\"Cumulative Returns of Asset Classes\")\n",
    "# plt.xlabel(\"Date\")\n",
    "# plt.ylabel(\"Cumulative Return\")\n",
    "# plt.legend(loc='upper left')\n",
    "# plt.show()\n",
    "\n",
    "\n",
    "# fig, ax1=plt.subplots(figsize=(10,6))\n",
    "# ax2=ax1.twinx()\n",
    "# plt.title(\"SPY Closing Price Over Time\")\n",
    "# plt.yscale('log')\n",
    "\n",
    "# # forex using USD index\n",
    "# usd = (yf.download(\"DX-Y.NYB\", start=spy.index.min())['Close'].pct_change() + 1).cumprod()\n",
    "# common_index = spy.index.intersection(usd.index)\n",
    "# ax1.plot(common_index, spy.loc[common_index], label='SPY', color='blue')\n",
    "# ax2.plot(common_index, usd.loc[common_index], label='USD', color='red')\n",
    "\n",
    "# lines_1, labels_1 = ax1.get_legend_handles_labels()\n",
    "# lines_2, labels_2 = ax2.get_legend_handles_labels()\n",
    "# ax1.legend(lines_1 + lines_2, labels_1 + labels_2, loc='upper left')\n",
    "# plt.show()\n"
   ]
  }
 ],
 "metadata": {
  "kernelspec": {
   "display_name": "Python 3",
   "language": "python",
   "name": "python3"
  },
  "language_info": {
   "codemirror_mode": {
    "name": "ipython",
    "version": 3
   },
   "file_extension": ".py",
   "mimetype": "text/x-python",
   "name": "python",
   "nbconvert_exporter": "python",
   "pygments_lexer": "ipython3",
   "version": "3.13.5"
  }
 },
 "nbformat": 4,
 "nbformat_minor": 5
}
