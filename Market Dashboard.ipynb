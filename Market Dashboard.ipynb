{
 "cells": [
  {
   "cell_type": "code",
   "execution_count": null,
   "id": "450631a0",
   "metadata": {},
   "outputs": [
    {
     "name": "stderr",
     "output_type": "stream",
     "text": [
      "[*********************100%***********************]  1 of 1 completed\n",
      "[*********************100%***********************]  1 of 1 completed\n",
      "[*********************100%***********************]  1 of 1 completed\n",
      "[*********************100%***********************]  1 of 1 completed\n",
      "[*********************100%***********************]  1 of 1 completed\n",
      "[*********************100%***********************]  1 of 1 completed\n",
      "[*********************100%***********************]  1 of 1 completed\n",
      "[*********************100%***********************]  1 of 1 completed\n",
      "HTTP Error 404: \n",
      "[*********************100%***********************]  1 of 1 completed\n",
      "\n",
      "1 Failed download:\n",
      "['^DE10Y']: YFTzMissingError('possibly delisted; no timezone found')\n"
     ]
    },
    {
     "name": "stdout",
     "output_type": "stream",
     "text": [
      "Ratio of missing values: 0.00%\n",
      "Ratio of missing values: 0.00%\n",
      "Ratio of missing values: 0.00%\n",
      "Ratio of missing values: 0.00%\n",
      "Ratio of missing values: 0.00%\n",
      "Ratio of missing values: 0.00%\n",
      "Ratio of missing values: 0.00%\n",
      "Ratio of missing values: 0.00%\n",
      "Ratio of missing values: nan%\n"
     ]
    },
    {
     "name": "stderr",
     "output_type": "stream",
     "text": [
      "c:\\Users\\torre\\OneDrive\\Bureau\\Skema Python Code\\helper.py:24: RuntimeWarning: invalid value encountered in scalar divide\n",
      "  null_percentage=null_sum/len(data)*100\n"
     ]
    }
   ],
   "source": [
    "# Dashboard with equity (SPY), forex (USD), commodities (Gold, crude oil, wheat), bonds (Inflation-linked bonds).\n",
    "# Data about growth, inflation, volatility, and yield.\n",
    "# Data goes back as far as possible, with widget slider to choose time frame.\n",
    "\n",
    "\n",
    "import datetime as dt\n",
    "from helper import *\n",
    "\n",
    "startdate=\"2019-09-19\"\n",
    "enddate=dt.datetime.today().strftime(\"%Y-%m-%d\")\n",
    "\n",
    "spy = data_download(\"SPY\", startdate, enddate)\n",
    "usd= data_download(\"DX-Y.NYB\", startdate, enddate)\n",
    "gold = data_download(\"GC=F\", startdate, enddate)\n",
    "crude_oil = data_download(\"WTI\", startdate, enddate)\n",
    "wheat = data_download(\"ZW=F\", startdate, enddate)\n",
    "bond = data_download(\"^TNX\", startdate, enddate)\n",
    "inflation_bond = data_download(\"TIP\", startdate, enddate)\n",
    "vix = data_download(\"^VIX\", startdate, enddate)\n",
    "\n",
    "\n",
    "assets_list = [spy, usd, gold, crude_oil, wheat, bond, inflation_bond, vix]\n",
    "assets_list = [fill_missing_values(asset) for asset in assets_list]\n",
    "spy, usd, gold, crude_oil, wheat, bond,inflation_bond,vix = assets_list\n",
    "\n",
    "for asset in assets_list:\n",
    "    check_na(asset)\n",
    "\n",
    "\n",
    "\n",
    "# Concatenate all Series into one DataFrame\n",
    "# assets_df = pd.concat([spy, usd, gold, crude_oil, wheat, bond], axis=1)\n",
    "# assets_df.columns = ['SPY', 'USD', 'Gold', 'Crude Oil', 'Wheat', 'Bond']\n",
    "\n",
    "# # Save to CSV\n",
    "# assets_df.to_csv('all_assets.csv')\n",
    "\n",
    "# # Plot the data for each asset class\n",
    "# assets_df.plot(figsize=(12, 7))\n",
    "# plt.title(\"Cumulative Returns of Asset Classes\")\n",
    "# plt.xlabel(\"Date\")\n",
    "# plt.ylabel(\"Cumulative Return\")\n",
    "# plt.legend(loc='upper left')\n",
    "# plt.show()\n",
    "\n",
    "\n",
    "# fig, ax1=plt.subplots(figsize=(10,6))\n",
    "# ax2=ax1.twinx()\n",
    "# plt.title(\"SPY Closing Price Over Time\")\n",
    "# plt.yscale('log')\n",
    "\n",
    "# # forex using USD index\n",
    "# usd = (yf.download(\"DX-Y.NYB\", start=spy.index.min())['Close'].pct_change() + 1).cumprod()\n",
    "# common_index = spy.index.intersection(usd.index)\n",
    "# ax1.plot(common_index, spy.loc[common_index], label='SPY', color='blue')\n",
    "# ax2.plot(common_index, usd.loc[common_index], label='USD', color='red')\n",
    "\n",
    "# lines_1, labels_1 = ax1.get_legend_handles_labels()\n",
    "# lines_2, labels_2 = ax2.get_legend_handles_labels()\n",
    "# ax1.legend(lines_1 + lines_2, labels_1 + labels_2, loc='upper left')\n",
    "# plt.show()\n"
   ]
  }
 ],
 "metadata": {
  "kernelspec": {
   "display_name": "Python 3",
   "language": "python",
   "name": "python3"
  },
  "language_info": {
   "codemirror_mode": {
    "name": "ipython",
    "version": 3
   },
   "file_extension": ".py",
   "mimetype": "text/x-python",
   "name": "python",
   "nbconvert_exporter": "python",
   "pygments_lexer": "ipython3",
   "version": "3.13.5"
  }
 },
 "nbformat": 4,
 "nbformat_minor": 5
}
